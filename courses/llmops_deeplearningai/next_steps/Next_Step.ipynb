{
 "cells": [
  {
   "cell_type": "markdown",
   "metadata": {
    "id": "ehJOIvMZlraz"
   },
   "source": [
    "<h1 style=\"background-color:rgb(255,250,250); color:brown; padding:15px; border-top-style:solid; border-width:1px;\"> 👨‍💻 Continue Learning: Next Steps</h1>\n",
    "<img  style=\"display: block; \" src=\"images/next-step-7.png\" alt=\"next-step\" border=\"0\" width=\"400px\"></img>\n",
    "\n",
    "Congratulations on completing the **LLMOps** course!\n",
    "\n",
    "To keep the momentum going, here are two recommended courses for your continued learning journey. Each course is designed to further expand your skills and knowledge, opening new doors of opportunity. Dive in and explore these exciting courses!"
   ]
  },
  {
   "cell_type": "markdown",
   "metadata": {
    "id": "k3cebfBdn31n"
   },
   "source": [
    "\n",
    "<h1 style=\"background-color:rgb(255,250,250); color:brown; padding:15px; border-top-style:solid; border-width:1px;\"> 1️⃣ &nbsp Reinforcement Learning from Human Feedback</h1>\n",
    "\n",
    "<a href=\"https://rebrand.ly/9m5eebs\"><img width=\"400px\" src=\"images/RLHF.png\" alt=\"langchain-chat-with-data\" border=\"0\"></a>\n",
    "\n",
    "A conceptual and hands-on introduction to tuning and evaluating large language models (LLMs) using Reinforcement Learning from Human Feedback.\n",
    "\n",
    "- Get a conceptual understanding of Reinforcement Learning from Human Feedback (RLHF), as well as the datasets needed for this technique\n",
    "- Fine-tune the Llama 2 model using RLHF with the open source Google Cloud Pipeline Components Library\n",
    "- Evaluate tuned model performance against the base model with evaluation methods\n",
    "\n",
    "</br>\n",
    "<span style=\"padding: 18px 12px; background-color:rgb(255, 245,245); border-radius:8px; border-color:rgb(255,220,220); border-width:2px; border-style:solid; margin-bottom:10px; margin-bottom:10px\"><b>📚 Reinforcement Learning from Human Feedback &nbsp; ➡️ </b> &nbsp;&nbsp; <a href=\"https://rebrand.ly/9m5eebs\" style=\"background-color: #F65B66; border-radius:7px; color: white; padding: 8px 12px; text-align: center; text-decoration: none; display: inline-block;\">\n",
    "        <b>Enroll Now</b>\n",
    "    </a></span>\n",
    "<p></p>\n",
    "<br>"
   ]
  },
  {
   "cell_type": "markdown",
   "metadata": {
    "id": "30WnR-5fuV0p"
   },
   "source": [
    "<h1 style=\"background-color:rgb(255,250,250); color:brown; padding:15px; border-top-style:solid; border-width:1.5px;\"> 2️⃣ &nbsp Understanding and Applying Text Embeddings</h1>\n",
    "\n",
    "<a href=\"https://rebrand.ly/iamdk95\"><img width=\"400\" src=\"images/Text-Embeddings.png\" alt=\"langchain-llm-app-dev\" border=\"0\"></a>\n",
    "\n",
    "Learn how to accelerate the application development process with text embeddings\n",
    "\n",
    "- Employ text embeddings for sentence and paragraph meaning\n",
    "- Use text embeddings for clustering, classification, and outlier detection\n",
    "- Build a question-answering system with Google Cloud’s Vertex AI\n",
    "\n",
    "</br>\n",
    "<span style=\"padding: 18px 12px; background-color:rgb(255, 245,245); border-radius:8px; border-color:rgb(255,220,220); border-width:2px; border-style:solid; margin-bottom:10px\"><b>📚 \n",
    "Understanding and Applying Text Embeddings &nbsp; ➡️ </b> &nbsp;&nbsp; <a href=\"https://rebrand.ly/iamdk95\" style=\"background-color: #F65B66; border-radius:7px; color: white; padding: 8px 12px; text-align: center; text-decoration: none; display: inline-block;\">\n",
    "        <b>Enroll Now</b>\n",
    "    </a></span>\n",
    "<p></p>\n",
    "<br>\n"
   ]
  }
 ],
 "metadata": {
  "colab": {
   "provenance": []
  },
  "kernelspec": {
   "display_name": "Python 3 (ipykernel)",
   "language": "python",
   "name": "python3"
  },
  "language_info": {
   "codemirror_mode": {
    "name": "ipython",
    "version": 3
   },
   "file_extension": ".py",
   "mimetype": "text/x-python",
   "name": "python",
   "nbconvert_exporter": "python",
   "pygments_lexer": "ipython3",
   "version": "3.9.19"
  }
 },
 "nbformat": 4,
 "nbformat_minor": 4
}
